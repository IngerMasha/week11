{
  "nbformat": 4,
  "nbformat_minor": 0,
  "metadata": {
    "colab": {
      "provenance": [],
      "authorship_tag": "ABX9TyMcaWRUdNDGml1BNdAYv6Zd",
      "include_colab_link": true
    },
    "kernelspec": {
      "name": "python3",
      "display_name": "Python 3"
    },
    "language_info": {
      "name": "python"
    }
  },
  "cells": [
    {
      "cell_type": "markdown",
      "metadata": {
        "id": "view-in-github",
        "colab_type": "text"
      },
      "source": [
        "<a href=\"https://colab.research.google.com/github/IngerMasha/week11/blob/main/Intro_to_Numpy_day2_Exercises_XP.ipynb\" target=\"_parent\"><img src=\"https://colab.research.google.com/assets/colab-badge.svg\" alt=\"Open In Colab\"/></a>"
      ]
    },
    {
      "cell_type": "code",
      "execution_count": 1,
      "metadata": {
        "colab": {
          "base_uri": "https://localhost:8080/"
        },
        "id": "b3vw7UP7pgR-",
        "outputId": "92cf1685-140d-4593-f01b-41e220d00dce"
      },
      "outputs": [
        {
          "output_type": "stream",
          "name": "stdout",
          "text": [
            "[0 1 2 3 4 5 6 7 8 9]\n"
          ]
        }
      ],
      "source": [
        "import numpy as np\n",
        "\n",
        "array1 = np.arange(10)\n",
        "print(array1)"
      ]
    },
    {
      "cell_type": "code",
      "source": [
        "list1 = [3.14, 2.17, 0, 1, 2]\n",
        "array2 = np.array(list1, dtype=int)\n",
        "print(array2)"
      ],
      "metadata": {
        "colab": {
          "base_uri": "https://localhost:8080/"
        },
        "id": "93gRgOEjpqJK",
        "outputId": "b2d22363-f28e-4c35-ac4e-6586c53fc5fd"
      },
      "execution_count": 9,
      "outputs": [
        {
          "output_type": "stream",
          "name": "stdout",
          "text": [
            "[3 2 0 1 2]\n"
          ]
        }
      ]
    },
    {
      "cell_type": "code",
      "source": [
        "array3 = np.arange(1, 10).reshape(3, 3)\n",
        "print(array3)"
      ],
      "metadata": {
        "colab": {
          "base_uri": "https://localhost:8080/"
        },
        "id": "h5F_L01nqJpv",
        "outputId": "4fe459b0-531c-4229-df97-30c20ce35e9f"
      },
      "execution_count": 7,
      "outputs": [
        {
          "output_type": "stream",
          "name": "stdout",
          "text": [
            "[[1 2 3]\n",
            " [4 5 6]\n",
            " [7 8 9]]\n"
          ]
        }
      ]
    },
    {
      "cell_type": "code",
      "source": [
        "array4 = np.random.rand(4, 5)\n",
        "print(array4)"
      ],
      "metadata": {
        "colab": {
          "base_uri": "https://localhost:8080/"
        },
        "id": "7SlxxCKtqGWw",
        "outputId": "35cc5c8e-7bb7-4152-f88a-6ac6ce3194e3"
      },
      "execution_count": 8,
      "outputs": [
        {
          "output_type": "stream",
          "name": "stdout",
          "text": [
            "[[0.81414372 0.29119218 0.75356521 0.54876969 0.22288413]\n",
            " [0.55556681 0.76799692 0.9415352  0.63190131 0.34463198]\n",
            " [0.47831629 0.68238953 0.18783868 0.58042168 0.27832803]\n",
            " [0.7408225  0.18105503 0.50840593 0.63962908 0.20964209]]\n"
          ]
        }
      ]
    },
    {
      "cell_type": "code",
      "source": [
        "array5 = np.array([[10, 11, 12, 13, 14],\n",
        "                   [20, 21, 22, 23, 24],\n",
        "                   [30, 31, 32, 33, 34]])\n",
        "second_row = array5[1]\n",
        "print(second_row)"
      ],
      "metadata": {
        "colab": {
          "base_uri": "https://localhost:8080/"
        },
        "id": "rUIQSjisqEjj",
        "outputId": "62b8c5ea-00b9-4b9d-c19c-1deaa05c3c59"
      },
      "execution_count": 6,
      "outputs": [
        {
          "output_type": "stream",
          "name": "stdout",
          "text": [
            "[20 21 22 23 24]\n"
          ]
        }
      ]
    },
    {
      "cell_type": "code",
      "source": [
        "array6 = np.arange(10)\n",
        "reversed_array6 = array6[::-1]\n",
        "print(reversed_array6)"
      ],
      "metadata": {
        "colab": {
          "base_uri": "https://localhost:8080/"
        },
        "id": "NEkbLnLDqAr9",
        "outputId": "8d1de543-eaae-4c88-b30b-31ce04304f88"
      },
      "execution_count": 5,
      "outputs": [
        {
          "output_type": "stream",
          "name": "stdout",
          "text": [
            "[9 8 7 6 5 4 3 2 1 0]\n"
          ]
        }
      ]
    },
    {
      "cell_type": "code",
      "source": [
        "identity_matrix = np.eye(4)\n",
        "print(identity_matrix)"
      ],
      "metadata": {
        "colab": {
          "base_uri": "https://localhost:8080/"
        },
        "id": "TQIImycnp3t6",
        "outputId": "bd85f66e-2aae-4096-9844-880fcaa520df"
      },
      "execution_count": 3,
      "outputs": [
        {
          "output_type": "stream",
          "name": "stdout",
          "text": [
            "[[1. 0. 0. 0.]\n",
            " [0. 1. 0. 0.]\n",
            " [0. 0. 1. 0.]\n",
            " [0. 0. 0. 1.]]\n"
          ]
        }
      ]
    },
    {
      "cell_type": "code",
      "source": [
        "array8 = np.arange(10)\n",
        "sum8 = np.sum(array8)\n",
        "average8 = np.mean(array8)\n",
        "print(f\"Sum: {sum8}, Average: {average8}\")"
      ],
      "metadata": {
        "colab": {
          "base_uri": "https://localhost:8080/"
        },
        "id": "MfVKHxZ9pzY7",
        "outputId": "9a47d1ec-1b2b-4fad-fbec-d34bf118910b"
      },
      "execution_count": 2,
      "outputs": [
        {
          "output_type": "stream",
          "name": "stdout",
          "text": [
            "Sum: 45, Average: 4.5\n"
          ]
        }
      ]
    },
    {
      "cell_type": "code",
      "source": [
        "array9 = np.arange(1, 21).reshape(4, 5)\n",
        "print(array9)"
      ],
      "metadata": {
        "colab": {
          "base_uri": "https://localhost:8080/"
        },
        "id": "A5wW_-WnpvWg",
        "outputId": "9319d5af-b8ab-4ae3-9ae9-5ff476628957"
      },
      "execution_count": 4,
      "outputs": [
        {
          "output_type": "stream",
          "name": "stdout",
          "text": [
            "[[ 1  2  3  4  5]\n",
            " [ 6  7  8  9 10]\n",
            " [11 12 13 14 15]\n",
            " [16 17 18 19 20]]\n"
          ]
        }
      ]
    },
    {
      "cell_type": "code",
      "source": [
        "array10 = np.arange(10)\n",
        "odd_numbers = array10[array10 % 2 != 0]\n",
        "print(odd_numbers)"
      ],
      "metadata": {
        "colab": {
          "base_uri": "https://localhost:8080/"
        },
        "id": "DhjCmqUoqQcY",
        "outputId": "c36de722-3fde-4cdb-bd59-6e9ad02dfe02"
      },
      "execution_count": 10,
      "outputs": [
        {
          "output_type": "stream",
          "name": "stdout",
          "text": [
            "[1 3 5 7 9]\n"
          ]
        }
      ]
    }
  ]
}