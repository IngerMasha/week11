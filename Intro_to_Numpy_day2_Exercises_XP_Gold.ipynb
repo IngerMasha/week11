{
  "nbformat": 4,
  "nbformat_minor": 0,
  "metadata": {
    "colab": {
      "provenance": [],
      "authorship_tag": "ABX9TyPwyz2cB5PsatM0WdrO9MVi",
      "include_colab_link": true
    },
    "kernelspec": {
      "name": "python3",
      "display_name": "Python 3"
    },
    "language_info": {
      "name": "python"
    }
  },
  "cells": [
    {
      "cell_type": "markdown",
      "metadata": {
        "id": "view-in-github",
        "colab_type": "text"
      },
      "source": [
        "<a href=\"https://colab.research.google.com/github/IngerMasha/week11/blob/main/Intro_to_Numpy_day2_Exercises_XP_Gold.ipynb\" target=\"_parent\"><img src=\"https://colab.research.google.com/assets/colab-badge.svg\" alt=\"Open In Colab\"/></a>"
      ]
    },
    {
      "cell_type": "code",
      "execution_count": 1,
      "metadata": {
        "colab": {
          "base_uri": "https://localhost:8080/"
        },
        "id": "oFnwGUOlrEhg",
        "outputId": "f2355aa4-6016-4993-f264-859a89dfd886"
      },
      "outputs": [
        {
          "output_type": "stream",
          "name": "stdout",
          "text": [
            "Min: 0.021044739893715803, Max: 0.8655854507847744\n"
          ]
        }
      ],
      "source": [
        "import numpy as np\n",
        "\n",
        "array1 = np.random.rand(5, 5)\n",
        "min_val = np.min(array1)\n",
        "max_val = np.max(array1)\n",
        "print(f\"Min: {min_val}, Max: {max_val}\")\n"
      ]
    },
    {
      "cell_type": "code",
      "source": [
        "matrix2 = np.random.rand(3, 3)\n",
        "mean2 = np.mean(matrix2)\n",
        "std2 = np.std(matrix2)\n",
        "normalized_matrix2 = (matrix2 - mean2) / std2\n",
        "print(normalized_matrix2)"
      ],
      "metadata": {
        "colab": {
          "base_uri": "https://localhost:8080/"
        },
        "id": "AkcbQHstrKNG",
        "outputId": "b6476d6f-4128-4467-9a4a-4c2a8efb7b27"
      },
      "execution_count": 2,
      "outputs": [
        {
          "output_type": "stream",
          "name": "stdout",
          "text": [
            "[[ 0.0773239  -0.18288044 -0.49198789]\n",
            " [-0.54537502 -0.99583955  1.83287636]\n",
            " [ 0.45131446  1.31575405 -1.46118586]]\n"
          ]
        }
      ]
    },
    {
      "cell_type": "code",
      "source": [
        "array3 = np.linspace(0, 10, 50, endpoint=False)\n",
        "print(array3)"
      ],
      "metadata": {
        "colab": {
          "base_uri": "https://localhost:8080/"
        },
        "id": "h7QWNpasrRFn",
        "outputId": "3adaf632-9a6b-49e9-b309-d5ed17335a1e"
      },
      "execution_count": 4,
      "outputs": [
        {
          "output_type": "stream",
          "name": "stdout",
          "text": [
            "[0.  0.2 0.4 0.6 0.8 1.  1.2 1.4 1.6 1.8 2.  2.2 2.4 2.6 2.8 3.  3.2 3.4\n",
            " 3.6 3.8 4.  4.2 4.4 4.6 4.8 5.  5.2 5.4 5.6 5.8 6.  6.2 6.4 6.6 6.8 7.\n",
            " 7.2 7.4 7.6 7.8 8.  8.2 8.4 8.6 8.8 9.  9.2 9.4 9.6 9.8]\n"
          ]
        }
      ]
    },
    {
      "cell_type": "code",
      "source": [
        "matrix4a = np.random.rand(5, 3)\n",
        "matrix4b = np.random.rand(3, 2)\n",
        "result4 = np.dot(matrix4a, matrix4b)\n",
        "print(result4)"
      ],
      "metadata": {
        "colab": {
          "base_uri": "https://localhost:8080/"
        },
        "id": "gP6YxC8DrYAZ",
        "outputId": "53bfabba-78c5-4a98-f9fd-e524f6c43508"
      },
      "execution_count": 3,
      "outputs": [
        {
          "output_type": "stream",
          "name": "stdout",
          "text": [
            "[[0.5060662  1.36803157]\n",
            " [0.48531284 0.92359353]\n",
            " [0.5162027  1.19864849]\n",
            " [0.59757437 1.66670857]\n",
            " [0.45772982 0.88130484]]\n"
          ]
        }
      ]
    },
    {
      "cell_type": "code",
      "source": [
        "matrix5a = np.array([[1, 2, 3], [4, 5, 6]])\n",
        "matrix5b = np.array([[7, 8], [9, 10], [11, 12]])\n",
        "result5 = np.dot(matrix5a, matrix5b)\n",
        "print(result5)"
      ],
      "metadata": {
        "colab": {
          "base_uri": "https://localhost:8080/"
        },
        "id": "_pMSd2oRrUbV",
        "outputId": "269e3019-1aab-4e2e-c157-9ad26c87f3b3"
      },
      "execution_count": 5,
      "outputs": [
        {
          "output_type": "stream",
          "name": "stdout",
          "text": [
            "[[ 58  64]\n",
            " [139 154]]\n"
          ]
        }
      ]
    }
  ]
}