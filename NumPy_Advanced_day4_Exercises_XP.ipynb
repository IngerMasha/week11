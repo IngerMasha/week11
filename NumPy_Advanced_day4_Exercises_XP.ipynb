{
  "nbformat": 4,
  "nbformat_minor": 0,
  "metadata": {
    "colab": {
      "provenance": [],
      "authorship_tag": "ABX9TyPk0SMpK2ElMfAl+ropA9Jk",
      "include_colab_link": true
    },
    "kernelspec": {
      "name": "python3",
      "display_name": "Python 3"
    },
    "language_info": {
      "name": "python"
    }
  },
  "cells": [
    {
      "cell_type": "markdown",
      "metadata": {
        "id": "view-in-github",
        "colab_type": "text"
      },
      "source": [
        "<a href=\"https://colab.research.google.com/github/IngerMasha/week11/blob/main/NumPy_Advanced_day4_Exercises_XP.ipynb\" target=\"_parent\"><img src=\"https://colab.research.google.com/assets/colab-badge.svg\" alt=\"Open In Colab\"/></a>"
      ]
    },
    {
      "cell_type": "code",
      "execution_count": 1,
      "metadata": {
        "colab": {
          "base_uri": "https://localhost:8080/"
        },
        "id": "duISbkdTslYY",
        "outputId": "008edbfb-2c33-4441-9d50-4ab5d8ccebc2"
      },
      "outputs": [
        {
          "output_type": "stream",
          "name": "stdout",
          "text": [
            "Matrix:\n",
            " [[0.43457532 0.58500348 0.04896043]\n",
            " [0.03718027 0.45163161 0.82765677]\n",
            " [0.95512663 0.91554518 0.72386335]]\n",
            "Determinant: 0.2400261662260508\n",
            "Inverse Matrix:\n",
            " [[-1.79496095 -1.57748259  1.92508187]\n",
            " [ 3.18133477  1.11575226 -1.49091597]\n",
            " [-1.65534104  0.67025638  0.72707641]]\n"
          ]
        }
      ],
      "source": [
        "import numpy as np\n",
        "import pandas as pd\n",
        "import matplotlib.pyplot as plt\n",
        "\n",
        "matrix1 = np.random.rand(3, 3)\n",
        "print(\"Matrix:\\n\", matrix1)\n",
        "determinant = np.linalg.det(matrix1)\n",
        "print(\"Determinant:\", determinant)\n",
        "\n",
        "if determinant != 0:\n",
        "    inverse_matrix = np.linalg.inv(matrix1)\n",
        "    print(\"Inverse Matrix:\\n\", inverse_matrix)\n",
        "else:\n",
        "    print(\"Matrix is singular and does not have an inverse.\")"
      ]
    },
    {
      "cell_type": "code",
      "source": [
        "data = np.random.rand(50)\n",
        "mean = np.mean(data)\n",
        "median = np.median(data)\n",
        "print(f\"Mean: {mean}, Median: {median}\")\n",
        "std_dev = np.std(data)\n",
        "print(\"Standard Deviation:\", std_dev)\n"
      ],
      "metadata": {
        "colab": {
          "base_uri": "https://localhost:8080/"
        },
        "id": "PchtIhJ4tAnb",
        "outputId": "0f5d80dd-3974-4b47-e059-1f57e6fdb19f"
      },
      "execution_count": 2,
      "outputs": [
        {
          "output_type": "stream",
          "name": "stdout",
          "text": [
            "Mean: 0.4549830377028797, Median: 0.4629852267745868\n",
            "Standard Deviation: 0.27686392121782344\n"
          ]
        }
      ]
    },
    {
      "cell_type": "code",
      "source": [
        "dates = np.arange('2023-01-01', '2023-02-01', dtype='datetime64[D]')\n",
        "formatted_dates = np.array([date.astype(str).replace('-', '/') for date in dates])\n",
        "print(\"Formatted Dates:\\n\", formatted_dates)"
      ],
      "metadata": {
        "colab": {
          "base_uri": "https://localhost:8080/"
        },
        "id": "dZUu83QTs9yg",
        "outputId": "85f6aa67-7845-455a-df1e-157d840e3412"
      },
      "execution_count": 3,
      "outputs": [
        {
          "output_type": "stream",
          "name": "stdout",
          "text": [
            "Formatted Dates:\n",
            " ['2023/01/01' '2023/01/02' '2023/01/03' '2023/01/04' '2023/01/05'\n",
            " '2023/01/06' '2023/01/07' '2023/01/08' '2023/01/09' '2023/01/10'\n",
            " '2023/01/11' '2023/01/12' '2023/01/13' '2023/01/14' '2023/01/15'\n",
            " '2023/01/16' '2023/01/17' '2023/01/18' '2023/01/19' '2023/01/20'\n",
            " '2023/01/21' '2023/01/22' '2023/01/23' '2023/01/24' '2023/01/25'\n",
            " '2023/01/26' '2023/01/27' '2023/01/28' '2023/01/29' '2023/01/30'\n",
            " '2023/01/31']\n"
          ]
        }
      ]
    },
    {
      "cell_type": "code",
      "source": [
        "df = pd.DataFrame(np.random.rand(10, 5), columns=['A', 'B', 'C', 'D', 'E'])\n",
        "print(\"DataFrame:\\n\", df)\n",
        "\n",
        "selected_data = df[df['A'] > 0.5]\n",
        "print(\"Selected Data:\\n\", selected_data)\n",
        "\n",
        "sum_df = df.sum()\n",
        "avg_df = df.mean()\n",
        "print(\"Sum:\\n\", sum_df)\n",
        "print(\"Average:\\n\", avg_df)"
      ],
      "metadata": {
        "colab": {
          "base_uri": "https://localhost:8080/"
        },
        "id": "GAtlob3Cs8I5",
        "outputId": "645de582-ed74-43f9-c739-e1e7f6d6cba5"
      },
      "execution_count": 4,
      "outputs": [
        {
          "output_type": "stream",
          "name": "stdout",
          "text": [
            "DataFrame:\n",
            "           A         B         C         D         E\n",
            "0  0.768645  0.057137  0.682496  0.200898  0.012280\n",
            "1  0.770596  0.490900  0.753555  0.532137  0.170841\n",
            "2  0.706357  0.511092  0.807561  0.807139  0.330241\n",
            "3  0.647212  0.008224  0.432948  0.921243  0.274828\n",
            "4  0.951836  0.584532  0.716364  0.037246  0.441997\n",
            "5  0.721971  0.208334  0.357867  0.082122  0.914184\n",
            "6  0.377668  0.492102  0.583868  0.483868  0.915363\n",
            "7  0.264109  0.747006  0.081952  0.170384  0.350297\n",
            "8  0.914130  0.939997  0.752006  0.938438  0.272311\n",
            "9  0.118250  0.670470  0.123814  0.151650  0.169831\n",
            "Selected Data:\n",
            "           A         B         C         D         E\n",
            "0  0.768645  0.057137  0.682496  0.200898  0.012280\n",
            "1  0.770596  0.490900  0.753555  0.532137  0.170841\n",
            "2  0.706357  0.511092  0.807561  0.807139  0.330241\n",
            "3  0.647212  0.008224  0.432948  0.921243  0.274828\n",
            "4  0.951836  0.584532  0.716364  0.037246  0.441997\n",
            "5  0.721971  0.208334  0.357867  0.082122  0.914184\n",
            "8  0.914130  0.939997  0.752006  0.938438  0.272311\n",
            "Sum:\n",
            " A    6.240774\n",
            "B    4.709793\n",
            "C    5.292432\n",
            "D    4.325125\n",
            "E    3.852174\n",
            "dtype: float64\n",
            "Average:\n",
            " A    0.624077\n",
            "B    0.470979\n",
            "C    0.529243\n",
            "D    0.432512\n",
            "E    0.385217\n",
            "dtype: float64\n"
          ]
        }
      ]
    },
    {
      "cell_type": "code",
      "source": [
        "image = np.random.rand(5, 5)\n",
        "print(\"Grayscale Image:\\n\", image)"
      ],
      "metadata": {
        "colab": {
          "base_uri": "https://localhost:8080/"
        },
        "id": "WWZndoJ1s6Ua",
        "outputId": "9628e754-e7ba-4f4b-dcd6-c178a4e97496"
      },
      "execution_count": 6,
      "outputs": [
        {
          "output_type": "stream",
          "name": "stdout",
          "text": [
            "Grayscale Image:\n",
            " [[0.93301111 0.855775   0.20066337 0.22025003 0.74333601]\n",
            " [0.800074   0.98574323 0.84162705 0.78811091 0.10052679]\n",
            " [0.94018062 0.3303793  0.18702941 0.52208366 0.15667115]\n",
            " [0.75963069 0.24144843 0.17362012 0.29947409 0.67166137]\n",
            " [0.57389318 0.06161241 0.40722754 0.14663266 0.11731548]]\n"
          ]
        }
      ]
    },
    {
      "cell_type": "code",
      "source": [
        "productivity_before = np.random.normal(loc=50, scale=10, size=30)\n",
        "productivity_after = productivity_before + np.random.normal(loc=5, scale=3, size=30)\n",
        "\n",
        "mean_diff = np.mean(productivity_after - productivity_before)\n",
        "print(\"Mean difference in productivity:\", mean_diff)"
      ],
      "metadata": {
        "colab": {
          "base_uri": "https://localhost:8080/"
        },
        "id": "V1J61UD1s45L",
        "outputId": "81038439-0a9d-46ac-df93-291257913550"
      },
      "execution_count": 5,
      "outputs": [
        {
          "output_type": "stream",
          "name": "stdout",
          "text": [
            "Mean difference in productivity: 5.103495134914109\n"
          ]
        }
      ]
    },
    {
      "cell_type": "code",
      "source": [
        "\n",
        "array7a = np.random.rand(5)\n",
        "array7b = np.random.rand(5)\n",
        "comparison = array7a > array7b\n",
        "print(\"Array 1:\", array7a)\n",
        "print(\"Array 2:\", array7b)\n",
        "print(\"Comparison (Array1 > Array2):\", comparison)\n",
        "\n"
      ],
      "metadata": {
        "colab": {
          "base_uri": "https://localhost:8080/"
        },
        "id": "AHnt7ti6s3E1",
        "outputId": "c1578ea3-21f1-4946-cead-8194ac4c3977"
      },
      "execution_count": 7,
      "outputs": [
        {
          "output_type": "stream",
          "name": "stdout",
          "text": [
            "Array 1: [0.4261628  0.03048671 0.66770309 0.75348892 0.68695281]\n",
            "Array 2: [0.51048697 0.19910701 0.29090431 0.84994512 0.92726785]\n",
            "Comparison (Array1 > Array2): [False False  True False False]\n"
          ]
        }
      ]
    },
    {
      "cell_type": "code",
      "source": [
        "time_series = pd.date_range(start='2023-01-01', end='2023-12-31', freq='D')\n",
        "data_series = pd.Series(np.random.rand(len(time_series)), index=time_series)\n",
        "\n",
        "jan_to_mar = data_series['2023-01-01':'2023-03-31']\n",
        "apr_to_jun = data_series['2023-04-01':'2023-06-30']\n",
        "jul_to_sep = data_series['2023-07-01':'2023-09-30']\n",
        "oct_to_dec = data_series['2023-10-01':'2023-12-31']\n",
        "print(\"January to March:\\n\", jan_to_mar)\n",
        "print(\"April to June:\\n\", apr_to_jun)\n",
        "print(\"July to September:\\n\", jul_to_sep)\n",
        "print(\"October to December:\\n\", oct_to_dec)\n",
        "\n"
      ],
      "metadata": {
        "colab": {
          "base_uri": "https://localhost:8080/"
        },
        "id": "w_li668cs1K2",
        "outputId": "423a126e-784f-4adc-d799-88fa397acb8a"
      },
      "execution_count": 8,
      "outputs": [
        {
          "output_type": "stream",
          "name": "stdout",
          "text": [
            "January to March:\n",
            " 2023-01-01    0.353359\n",
            "2023-01-02    0.667302\n",
            "2023-01-03    0.615840\n",
            "2023-01-04    0.613461\n",
            "2023-01-05    0.394187\n",
            "                ...   \n",
            "2023-03-27    0.851146\n",
            "2023-03-28    0.915371\n",
            "2023-03-29    0.982935\n",
            "2023-03-30    0.867220\n",
            "2023-03-31    0.699059\n",
            "Freq: D, Length: 90, dtype: float64\n",
            "April to June:\n",
            " 2023-04-01    0.683576\n",
            "2023-04-02    0.360484\n",
            "2023-04-03    0.091381\n",
            "2023-04-04    0.563521\n",
            "2023-04-05    0.579138\n",
            "                ...   \n",
            "2023-06-26    0.866784\n",
            "2023-06-27    0.930702\n",
            "2023-06-28    0.440624\n",
            "2023-06-29    0.775238\n",
            "2023-06-30    0.627043\n",
            "Freq: D, Length: 91, dtype: float64\n",
            "July to September:\n",
            " 2023-07-01    0.233692\n",
            "2023-07-02    0.901328\n",
            "2023-07-03    0.661895\n",
            "2023-07-04    0.746662\n",
            "2023-07-05    0.724578\n",
            "                ...   \n",
            "2023-09-26    0.215113\n",
            "2023-09-27    0.340790\n",
            "2023-09-28    0.980733\n",
            "2023-09-29    0.219621\n",
            "2023-09-30    0.369453\n",
            "Freq: D, Length: 92, dtype: float64\n",
            "October to December:\n",
            " 2023-10-01    0.723613\n",
            "2023-10-02    0.839189\n",
            "2023-10-03    0.998069\n",
            "2023-10-04    0.648528\n",
            "2023-10-05    0.633089\n",
            "                ...   \n",
            "2023-12-27    0.945075\n",
            "2023-12-28    0.445741\n",
            "2023-12-29    0.946764\n",
            "2023-12-30    0.018329\n",
            "2023-12-31    0.774209\n",
            "Freq: D, Length: 92, dtype: float64\n"
          ]
        }
      ]
    },
    {
      "cell_type": "code",
      "source": [
        "array9 = np.random.rand(5, 3)\n",
        "df9 = pd.DataFrame(array9, columns=['X', 'Y', 'Z'])\n",
        "print(\"DataFrame from NumPy array:\\n\", df9)\n",
        "\n",
        "array_from_df = df9.to_numpy()\n",
        "print(\"NumPy array from DataFrame:\\n\", array_from_df)\n",
        "\n"
      ],
      "metadata": {
        "colab": {
          "base_uri": "https://localhost:8080/"
        },
        "id": "SucEIe4Yszhr",
        "outputId": "a55c32f2-7582-4838-8971-f291d040f14a"
      },
      "execution_count": 10,
      "outputs": [
        {
          "output_type": "stream",
          "name": "stdout",
          "text": [
            "DataFrame from NumPy array:\n",
            "           X         Y         Z\n",
            "0  0.536773  0.785897  0.326638\n",
            "1  0.729211  0.109048  0.869487\n",
            "2  0.508021  0.028485  0.427117\n",
            "3  0.523403  0.768472  0.675799\n",
            "4  0.566016  0.601940  0.428590\n",
            "NumPy array from DataFrame:\n",
            " [[0.53677288 0.78589721 0.32663813]\n",
            " [0.72921052 0.10904759 0.86948724]\n",
            " [0.50802058 0.02848454 0.42711728]\n",
            " [0.52340346 0.76847223 0.67579936]\n",
            " [0.56601596 0.60193975 0.42858991]]\n"
          ]
        }
      ]
    },
    {
      "cell_type": "code",
      "source": [
        "x = np.arange(0, 10, 0.1)\n",
        "y = np.sin(x)\n",
        "\n",
        "plt.plot(x, y)\n",
        "plt.title(\"Sine Wave\")\n",
        "plt.xlabel(\"X\")\n",
        "plt.ylabel(\"sin(X)\")\n",
        "plt.show()"
      ],
      "metadata": {
        "colab": {
          "base_uri": "https://localhost:8080/",
          "height": 472
        },
        "id": "ymp1O3inswGe",
        "outputId": "68bca236-3147-4125-9bbf-a3e6498d58ec"
      },
      "execution_count": 11,
      "outputs": [
        {
          "output_type": "display_data",
          "data": {
            "text/plain": [
              "<Figure size 640x480 with 1 Axes>"
            ],
            "image/png": "[encoded data removed]"
          },
          "metadata": {}
        }
      ]
    }
  ]
}