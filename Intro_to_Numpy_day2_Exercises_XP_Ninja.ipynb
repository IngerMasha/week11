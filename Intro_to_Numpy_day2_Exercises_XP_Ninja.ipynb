{
  "nbformat": 4,
  "nbformat_minor": 0,
  "metadata": {
    "colab": {
      "provenance": [],
      "authorship_tag": "ABX9TyPiaMXRtOX0X8Assf5EAla7",
      "include_colab_link": true
    },
    "kernelspec": {
      "name": "python3",
      "display_name": "Python 3"
    },
    "language_info": {
      "name": "python"
    }
  },
  "cells": [
    {
      "cell_type": "markdown",
      "metadata": {
        "id": "view-in-github",
        "colab_type": "text"
      },
      "source": [
        "<a href=\"https://colab.research.google.com/github/IngerMasha/week11/blob/main/Intro_to_Numpy_day2_Exercises_XP_Ninja.ipynb\" target=\"_parent\"><img src=\"https://colab.research.google.com/assets/colab-badge.svg\" alt=\"Open In Colab\"/></a>"
      ]
    },
    {
      "cell_type": "code",
      "execution_count": 2,
      "metadata": {
        "colab": {
          "base_uri": "https://localhost:8080/"
        },
        "id": "qPXhCSe2rqY7",
        "outputId": "db6ac343-b228-4c50-f28e-3befbd575f50"
      },
      "outputs": [
        {
          "output_type": "stream",
          "name": "stdout",
          "text": [
            "[[0.06163449 0.33439658 0.74338194 0.62666237 0.61738858]\n",
            " [0.06561828 0.86028103 0.89390357 0.55272828 0.40935306]\n",
            " [0.375328   0.68161863 0.60780748 0.6509008  0.94451447]\n",
            " [0.84139925 0.6391534  0.55771189 0.86577286 0.93368262]\n",
            " [0.63617961 0.71216384 0.14893766 0.94002213 0.        ]]\n"
          ]
        }
      ],
      "source": [
        "import numpy as np\n",
        "\n",
        "matrix1 = np.random.rand(5, 5)\n",
        "matrix1[matrix1 == matrix1.max()] = 0\n",
        "print(matrix1)"
      ]
    },
    {
      "cell_type": "code",
      "source": [
        "array2a = np.random.randint(0, 10, 5)\n",
        "array2b = np.random.randint(0, 10, 5)\n",
        "common_values = np.intersect1d(array2a, array2b)\n",
        "print(\"Array 1:\", array2a)\n",
        "print(\"Array 2:\", array2b)\n",
        "print(\"Common values:\", common_values)"
      ],
      "metadata": {
        "colab": {
          "base_uri": "https://localhost:8080/"
        },
        "id": "sI__DKw4sR9H",
        "outputId": "3a5974c2-ab3b-4e25-b5df-bfb837aa1f2c"
      },
      "execution_count": 7,
      "outputs": [
        {
          "output_type": "stream",
          "name": "stdout",
          "text": [
            "Array 1: [6 9 5 8 8]\n",
            "Array 2: [0 4 9 5 5]\n",
            "Common values: [5 9]\n"
          ]
        }
      ]
    },
    {
      "cell_type": "code",
      "source": [
        "array3 = np.random.rand(10)\n",
        "ascending_array = np.sort(array3)\n",
        "descending_array = np.sort(array3)[::-1]\n",
        "print(f\"Ascending: {ascending_array}\")\n",
        "print(f\"Descending: {descending_array}\")\n"
      ],
      "metadata": {
        "colab": {
          "base_uri": "https://localhost:8080/"
        },
        "id": "iLfms6ebr6Z-",
        "outputId": "bff39667-a0c5-4004-e2ac-138f4d9dfd5a"
      },
      "execution_count": 4,
      "outputs": [
        {
          "output_type": "stream",
          "name": "stdout",
          "text": [
            "Ascending: [0.08500564 0.09228921 0.41349558 0.43136259 0.51203926 0.60977539\n",
            " 0.73844307 0.79938017 0.87202515 0.92244164]\n",
            "Descending: [0.92244164 0.87202515 0.79938017 0.73844307 0.60977539 0.51203926\n",
            " 0.43136259 0.41349558 0.09228921 0.08500564]\n"
          ]
        }
      ]
    },
    {
      "cell_type": "code",
      "source": [
        "matrix4 = np.random.rand(4, 4)\n",
        "rank4 = np.linalg.matrix_rank(matrix4)\n",
        "print(f\"Rank: {rank4}\")"
      ],
      "metadata": {
        "colab": {
          "base_uri": "https://localhost:8080/"
        },
        "id": "VUrk3qk6rzly",
        "outputId": "47b6bf28-ed90-4dad-a67f-972e508233e5"
      },
      "execution_count": 5,
      "outputs": [
        {
          "output_type": "stream",
          "name": "stdout",
          "text": [
            "Rank: 4\n"
          ]
        }
      ]
    },
    {
      "cell_type": "code",
      "source": [
        "border_array = np.ones((5, 5))\n",
        "border_array[1:-1, 1:-1] = 0\n",
        "print(border_array)"
      ],
      "metadata": {
        "colab": {
          "base_uri": "https://localhost:8080/"
        },
        "id": "mfb1F1aurvFU",
        "outputId": "96da78e8-7b8a-4d39-ce77-59c95bef9274"
      },
      "execution_count": 6,
      "outputs": [
        {
          "output_type": "stream",
          "name": "stdout",
          "text": [
            "[[1. 1. 1. 1. 1.]\n",
            " [1. 0. 0. 0. 1.]\n",
            " [1. 0. 0. 0. 1.]\n",
            " [1. 0. 0. 0. 1.]\n",
            " [1. 1. 1. 1. 1.]]\n"
          ]
        }
      ]
    }
  ]
}